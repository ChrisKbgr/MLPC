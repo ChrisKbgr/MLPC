{
 "cells": [
  {
   "cell_type": "code",
   "execution_count": 1,
   "id": "02871f50-7ea1-4029-8ed8-88a25f664452",
   "metadata": {},
   "outputs": [
    {
     "name": "stdout",
     "output_type": "stream",
     "text": [
      "Detected segments (in seconds): []\n"
     ]
    }
   ],
   "source": [
    "import numpy as np\n",
    "\n",
    "# Load the audio data from development.npy\n",
    "audio_data = np.load('development_numpy/development.npy')\n",
    "\n",
    "# Define segment parameters\n",
    "sample_rate = 44100  # Example sample rate (adjust as per your data)\n",
    "segment_duration = 1.0  # Segment duration in seconds\n",
    "overlap_duration = 0.5  # Overlap duration in seconds (50% overlap)\n",
    "\n",
    "# Calculate segment and overlap samples\n",
    "segment_samples = int(segment_duration * sample_rate)\n",
    "overlap_samples = int(overlap_duration * sample_rate)\n",
    "\n",
    "# Initialize empty list to store segments\n",
    "segments = []\n",
    "\n",
    "# Generate segments with overlap\n",
    "start = 0\n",
    "while start + segment_samples <= len(audio_data):\n",
    "    segment = audio_data[start:start + segment_samples]\n",
    "    segments.append(segment)\n",
    "    start += segment_samples - overlap_samples\n",
    "\n",
    "# Handle the last segment (ensure it covers remaining data)\n",
    "if start < len(audio_data):\n",
    "    last_segment = audio_data[start:]\n",
    "    segments.append(last_segment)\n",
    "\n",
    "# Function to detect keywords in each segment (example)\n",
    "def detect_keywords(segment):\n",
    "    # Placeholder function; replace with your actual keyword detection logic\n",
    "    # Example: Simply print the segment duration for demonstration\n",
    "    segment_duration_sec = len(segment) / sample_rate\n",
    "    print(f\"Processing segment of duration {segment_duration_sec} seconds\")\n",
    "\n",
    "# Process each segment\n",
    "for segment in segments:\n",
    "    detect_keywords(segment)  # Replace with your actual keyword detection function\n",
    "\n",
    "# Optionally, you can integrate your keyword detection classifier here\n",
    "# Make sure to handle post-processing and decision-making based on classifier outputs\n"
   ]
  },
  {
   "cell_type": "code",
   "execution_count": null,
   "id": "99cb4f44-2edc-4db5-aa9d-b41e9f169556",
   "metadata": {},
   "outputs": [],
   "source": []
  }
 ],
 "metadata": {
  "kernelspec": {
   "display_name": "Python 3 (ipykernel)",
   "language": "python",
   "name": "python3"
  },
  "language_info": {
   "codemirror_mode": {
    "name": "ipython",
    "version": 3
   },
   "file_extension": ".py",
   "mimetype": "text/x-python",
   "name": "python",
   "nbconvert_exporter": "python",
   "pygments_lexer": "ipython3",
   "version": "3.9.16"
  }
 },
 "nbformat": 4,
 "nbformat_minor": 5
}
