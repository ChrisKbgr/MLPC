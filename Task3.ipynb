{
 "cells": [
  {
   "cell_type": "code",
   "execution_count": null,
   "id": "ff4425e8-35d0-4582-95dc-a705cfea3e06",
   "metadata": {},
   "outputs": [
    {
     "name": "stdout",
     "output_type": "stream",
     "text": [
      "Data shape: (45296, 175, 44)\n",
      "Labels shape: (45296,)\n",
      "Reshaped data shape: (45296, 7700)\n",
      "Training data shape: (15853, 7700)\n",
      "Training labels shape: (15853,)\n",
      "Validation data shape: (15854, 7700)\n",
      "Validation labels shape: (15854,)\n",
      "Test data shape: (13589, 7700)\n",
      "Test labels shape: (13589,)\n"
     ]
    }
   ],
   "source": [
    "import numpy as np\n",
    "import pandas as pd\n",
    "from sklearn.model_selection import train_test_split\n",
    "\n",
    "# Load the data from the .npy file\n",
    "data = np.load('development_numpy/development.npy', allow_pickle=True)\n",
    "\n",
    "# Load metadata from development.csv\n",
    "metadata = pd.read_csv('metadata/development.csv')\n",
    "\n",
    "# Load feature names mapping from idx_to_feature_names.csv\n",
    "feature_names_mapping = pd.read_csv('metadata/idx_to_feature_name.csv')\n",
    "\n",
    "# Extract labels and speaker IDs from metadata\n",
    "labels = metadata['word'].values  # Adjusted to use 'word' column as class labels\n",
    "speaker_ids = metadata['speaker_id'].values\n",
    "\n",
    "# Assuming the snippet IDs are sequential integers starting from 0\n",
    "snippet_ids = np.arange(len(metadata))\n",
    "\n",
    "# Check the shapes of the data and labels\n",
    "print('Data shape:', data.shape)\n",
    "print('Labels shape:', labels.shape)\n",
    "\n",
    "# Flatten the feature dimensions (n_features * n_time) for use with SVM\n",
    "n_samples, n_features, n_time = data.shape\n",
    "X = data.reshape(n_samples, n_features * n_time)\n",
    "\n",
    "# Verify reshaped data\n",
    "print('Reshaped data shape:', X.shape)\n",
    "\n",
    "# Split the data into train, validation, and test sets\n",
    "X_train_val, X_test, y_train_val, y_test, snippet_ids_train_val, snippet_ids_test = train_test_split(\n",
    "    X, labels, snippet_ids, test_size=0.3, random_state=42)\n",
    "X_train, X_val, y_train, y_val, snippet_ids_train, snippet_ids_val = train_test_split(\n",
    "    X_train_val, y_train_val, snippet_ids_train_val, test_size=0.5, random_state=42)\n",
    "\n",
    "# Check the shapes after splitting\n",
    "print('Training data shape:', X_train.shape)\n",
    "print('Training labels shape:', y_train.shape)\n",
    "print('Validation data shape:', X_val.shape)\n",
    "print('Validation labels shape:', y_val.shape)\n",
    "print('Test data shape:', X_test.shape)\n",
    "print('Test labels shape:', y_test.shape)"
   ]
  },
  {
   "cell_type": "code",
   "execution_count": null,
   "id": "ca69eee8-eca7-4705-a8fd-6d5accadac8d",
   "metadata": {},
   "outputs": [],
   "source": []
  }
 ],
 "metadata": {
  "kernelspec": {
   "display_name": "Python 3 (ipykernel)",
   "language": "python",
   "name": "python3"
  },
  "language_info": {
   "codemirror_mode": {
    "name": "ipython",
    "version": 3
   },
   "file_extension": ".py",
   "mimetype": "text/x-python",
   "name": "python",
   "nbconvert_exporter": "python",
   "pygments_lexer": "ipython3",
   "version": "3.9.16"
  }
 },
 "nbformat": 4,
 "nbformat_minor": 5
}
