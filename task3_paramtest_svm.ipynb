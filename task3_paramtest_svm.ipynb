{
 "cells": [
  {
   "cell_type": "code",
   "execution_count": null,
   "metadata": {},
   "outputs": [],
   "source": [
    "import numpy as np\n",
    "import pandas as pd\n",
    "\n",
    "data = np.load('development_numpy/development.npy', allow_pickle=True)\n",
    "\n",
    "metadata = pd.read_csv('metadata/development.csv')\n",
    "\n",
    "feature_names_mapping = pd.read_csv('metadata/idx_to_feature_name.csv')\n",
    "\n",
    "labels = metadata['word'].values  \n",
    "speaker_ids = metadata['speaker_id'].values\n",
    "\n",
    "snippet_ids = np.arange(len(metadata))\n",
    "\n",
    "print('Data shape:', data.shape)\n",
    "print('Labels shape:', labels.shape)\n"
   ]
  },
  {
   "cell_type": "code",
   "execution_count": null,
   "metadata": {},
   "outputs": [],
   "source": [
    "from sklearn.model_selection import train_test_split\n",
    "\n",
    "subsample_fraction = 0.6\n",
    "X_subsample, _, y_subsample, _, snippet_ids_subsample, _ = train_test_split(\n",
    "    data, labels, snippet_ids, train_size=subsample_fraction, random_state=42)\n",
    "\n",
    "print('Subsampled data shape:', X_subsample.shape)\n",
    "print('Subsampled labels shape:', y_subsample.shape)\n",
    "\n",
    "n_samples, n_features, n_time = X_subsample.shape\n",
    "X_subsample_flat = X_subsample.reshape(n_samples, n_features * n_time)\n",
    "\n",
    "print('Reshaped subsampled data shape:', X_subsample_flat.shape)\n"
   ]
  },
  {
   "cell_type": "code",
   "execution_count": null,
   "metadata": {},
   "outputs": [],
   "source": [
    "X_train_val, X_test, y_train_val, y_test, snippet_ids_train_val, snippet_ids_test = train_test_split(\n",
    "    X_subsample_flat, y_subsample, snippet_ids_subsample, test_size=0.3, random_state=42)\n",
    "X_train, X_val, y_train, y_val, snippet_ids_train, snippet_ids_val = train_test_split(\n",
    "    X_train_val, y_train_val, snippet_ids_train_val, test_size=0.5, random_state=42)\n",
    "\n",
    "print('Training data shape:', X_train.shape)\n",
    "print('Training labels shape:', y_train.shape)\n",
    "print('Validation data shape:', X_val.shape)\n",
    "print('Validation labels shape:', y_val.shape)\n",
    "print('Test data shape:', X_test.shape)\n",
    "print('Test labels shape:', y_test.shape)\n"
   ]
  },
  {
   "cell_type": "code",
   "execution_count": null,
   "metadata": {},
   "outputs": [],
   "source": [
    "from sklearn.preprocessing import StandardScaler\n",
    "\n",
    "scaler = StandardScaler()\n",
    "X_train_scaled = scaler.fit_transform(X_train)\n",
    "X_val_scaled = scaler.transform(X_val)\n",
    "X_test_scaled = scaler.transform(X_test)\n",
    "\n",
    "print('Training data mean (scaled):', np.mean(X_train_scaled))\n",
    "print('Training data std (scaled):', np.std(X_train_scaled))\n"
   ]
  },
  {
   "cell_type": "code",
   "execution_count": null,
   "metadata": {},
   "outputs": [],
   "source": [
    "from sklearn.svm import SVC\n",
    "from sklearn.model_selection import GridSearchCV\n",
    "\n",
    "svm = SVC()\n",
    "\n",
    "param_grid = {\n",
    "    'C': [0.1, 1, 10],\n",
    "    'kernel': ['linear', 'rbf', 'poly'],\n",
    "    'gamma': ['scale', 'auto']\n",
    "}\n",
    "\n",
    "grid_search = GridSearchCV(svm, param_grid, cv=3, scoring='accuracy', n_jobs=-1, verbose=2)\n",
    "grid_search.fit(X_train_scaled, y_train)\n",
    "\n",
    "print('Best hyperparameters (SVM):', grid_search.best_params_)\n",
    "print('Best cross-validation score (SVM):', grid_search.best_score_)\n",
    "\n",
    "best_svm = grid_search.best_estimator_\n",
    "val_score_svm = best_svm.score(X_val_scaled, y_val)\n",
    "test_score_svm = best_svm.score(X_test_scaled, y_test)\n",
    "print('Validation accuracy (SVM):', val_score_svm)\n",
    "print('Test accuracy (SVM):', test_score_svm)\n",
    "\n",
    "\n"
   ]
  },
  {
   "cell_type": "code",
   "execution_count": null,
   "metadata": {},
   "outputs": [],
   "source": [
    "import matplotlib.pyplot as plt\n",
    "\n",
    "def plot_grid_search(cv_results, param_grid, param_names, model_name):\n",
    "    scores_mean = cv_results['mean_test_score']\n",
    "    scores_std = cv_results['std_test_score']\n",
    "    params = cv_results['params']\n",
    "\n",
    "    fig, ax = plt.subplots(1, len(param_names), figsize=(15, 5))\n",
    "    \n",
    "    for i, param_name in enumerate(param_names):\n",
    "        param_values = [param[param_name] for param in params]\n",
    "        ax[i].errorbar(param_values, scores_mean, yerr=scores_std, fmt='o')\n",
    "        ax[i].set_title(f'{model_name}: {param_name}')\n",
    "        ax[i].set_xlabel(param_name)\n",
    "        ax[i].set_ylabel('Mean Test Score')\n",
    "\n",
    "    plt.show()\n",
    "\n",
    "print(f\"Best hyperparameters for SVM: {grid_search.best_params_}\")\n",
    "\n",
    "plot_grid_search(grid_search.cv_results_, param_grid, list(param_grid.keys()), 'SVM')"
   ]
  }
 ],
 "metadata": {
  "language_info": {
   "name": "python"
  }
 },
 "nbformat": 4,
 "nbformat_minor": 2
}
