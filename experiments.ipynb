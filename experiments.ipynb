{
 "cells": [
  {
   "cell_type": "code",
   "execution_count": 8,
   "id": "b4c3190f",
   "metadata": {},
   "outputs": [
    {
     "name": "stdout",
     "output_type": "stream",
     "text": [
      "Data shape: (45296, 175, 44)\n",
      "Labels shape: (45296,)\n"
     ]
    }
   ],
   "source": [
    "import numpy as np\n",
    "import pandas as pd\n",
    "\n",
    "# Load the data from the .npy file\n",
    "data = np.load('development_numpy/development.npy', allow_pickle=True)\n",
    "\n",
    "# Load metadata from development.csv\n",
    "metadata = pd.read_csv('metadata/development.csv')\n",
    "\n",
    "# Load feature names mapping from idx_to_feature_names.csv\n",
    "feature_names_mapping = pd.read_csv('metadata/idx_to_feature_name.csv')\n",
    "\n",
    "# Extract labels and speaker IDs from metadata\n",
    "labels = metadata['word'].values  # Adjusted to use 'word' column as class labels\n",
    "speaker_ids = metadata['speaker_id'].values\n",
    "\n",
    "# Assuming the snippet IDs are sequential integers starting from 0\n",
    "snippet_ids = np.arange(len(metadata))\n",
    "\n",
    "# Check the shapes of the data and labels\n",
    "print('Data shape:', data.shape)\n",
    "print('Labels shape:', labels.shape)\n"
   ]
  },
  {
   "cell_type": "code",
   "execution_count": 9,
   "id": "b6bd13f4",
   "metadata": {},
   "outputs": [
    {
     "name": "stdout",
     "output_type": "stream",
     "text": [
      "Subsampled data shape: (4529, 175, 44)\n",
      "Subsampled labels shape: (4529,)\n",
      "Reshaped subsampled data shape: (4529, 7700)\n"
     ]
    }
   ],
   "source": [
    "from sklearn.model_selection import train_test_split\n",
    "\n",
    "# Subsample the data (e.g., 10% of the original dataset)\n",
    "subsample_fraction = 0.1\n",
    "X_subsample, _, y_subsample, _, snippet_ids_subsample, _ = train_test_split(\n",
    "    data, labels, snippet_ids, train_size=subsample_fraction, random_state=42)\n",
    "\n",
    "# Check the shapes of the subsampled data\n",
    "print('Subsampled data shape:', X_subsample.shape)\n",
    "print('Subsampled labels shape:', y_subsample.shape)\n",
    "\n",
    "# Flatten the feature dimensions (n_features * n_time) for use with SVM\n",
    "n_samples, n_features, n_time = X_subsample.shape\n",
    "X_subsample_flat = X_subsample.reshape(n_samples, n_features * n_time)\n",
    "\n",
    "# Verify reshaped data\n",
    "print('Reshaped subsampled data shape:', X_subsample_flat.shape)\n"
   ]
  },
  {
   "cell_type": "code",
   "execution_count": 10,
   "id": "f6bf890e",
   "metadata": {},
   "outputs": [
    {
     "name": "stdout",
     "output_type": "stream",
     "text": [
      "Training data shape: (1585, 7700)\n",
      "Training labels shape: (1585,)\n",
      "Validation data shape: (1585, 7700)\n",
      "Validation labels shape: (1585,)\n",
      "Test data shape: (1359, 7700)\n",
      "Test labels shape: (1359,)\n"
     ]
    }
   ],
   "source": [
    "# Split the subsampled data into train, validation, and test sets\n",
    "X_train_val, X_test, y_train_val, y_test, snippet_ids_train_val, snippet_ids_test = train_test_split(\n",
    "    X_subsample_flat, y_subsample, snippet_ids_subsample, test_size=0.3, random_state=42)\n",
    "X_train, X_val, y_train, y_val, snippet_ids_train, snippet_ids_val = train_test_split(\n",
    "    X_train_val, y_train_val, snippet_ids_train_val, test_size=0.5, random_state=42)\n",
    "\n",
    "# Check the shapes after splitting\n",
    "print('Training data shape:', X_train.shape)\n",
    "print('Training labels shape:', y_train.shape)\n",
    "print('Validation data shape:', X_val.shape)\n",
    "print('Validation labels shape:', y_val.shape)\n",
    "print('Test data shape:', X_test.shape)\n",
    "print('Test labels shape:', y_test.shape)\n"
   ]
  },
  {
   "cell_type": "code",
   "execution_count": 11,
   "id": "d64dd100",
   "metadata": {},
   "outputs": [
    {
     "name": "stdout",
     "output_type": "stream",
     "text": [
      "Training data mean (scaled): -4.266342060428542e-18\n",
      "Training data std (scaled): 1.0\n"
     ]
    }
   ],
   "source": [
    "from sklearn.preprocessing import StandardScaler\n",
    "\n",
    "# Standardize the features by removing the mean and scaling to unit variance\n",
    "scaler = StandardScaler()\n",
    "X_train_scaled = scaler.fit_transform(X_train)\n",
    "X_val_scaled = scaler.transform(X_val)\n",
    "X_test_scaled = scaler.transform(X_test)\n",
    "\n",
    "# Verify the scaling\n",
    "print('Training data mean (scaled):', np.mean(X_train_scaled))\n",
    "print('Training data std (scaled):', np.std(X_train_scaled))\n"
   ]
  },
  {
   "cell_type": "code",
   "execution_count": 12,
   "id": "64f837a2",
   "metadata": {},
   "outputs": [
    {
     "name": "stdout",
     "output_type": "stream",
     "text": [
      "Fitting 3 folds for each of 18 candidates, totalling 54 fits\n",
      "[CV] END ..................C=0.1, gamma=scale, kernel=linear; total time=  14.5s\n",
      "[CV] END ..................C=0.1, gamma=scale, kernel=linear; total time=  14.5s\n",
      "[CV] END ...................C=0.1, gamma=auto, kernel=linear; total time=  14.5s\n",
      "[CV] END ..................C=0.1, gamma=scale, kernel=linear; total time=  14.6s\n",
      "[CV] END ....................C=0.1, gamma=scale, kernel=poly; total time=  17.1s\n",
      "[CV] END ....................C=0.1, gamma=scale, kernel=poly; total time=  17.2s\n",
      "[CV] END ....................C=0.1, gamma=scale, kernel=poly; total time=  17.3s\n",
      "[CV] END .....................C=0.1, gamma=scale, kernel=rbf; total time=  19.8s\n",
      "[CV] END .....................C=0.1, gamma=scale, kernel=rbf; total time=  19.8s\n",
      "[CV] END .....................C=0.1, gamma=scale, kernel=rbf; total time=  19.8s\n",
      "[CV] END ...................C=0.1, gamma=auto, kernel=linear; total time=  14.7s\n",
      "[CV] END ...................C=0.1, gamma=auto, kernel=linear; total time=  14.7s\n",
      "[CV] END ....................C=1, gamma=scale, kernel=linear; total time=  14.6s\n",
      "[CV] END ......................C=0.1, gamma=auto, kernel=rbf; total time=  19.9s\n",
      "[CV] END .....................C=0.1, gamma=auto, kernel=poly; total time=  17.1s\n",
      "[CV] END ......................C=0.1, gamma=auto, kernel=rbf; total time=  19.8s\n",
      "[CV] END .....................C=0.1, gamma=auto, kernel=poly; total time=  17.2s\n",
      "[CV] END ....................C=1, gamma=scale, kernel=linear; total time=  14.7s\n",
      "[CV] END .....................C=0.1, gamma=auto, kernel=poly; total time=  17.4s\n",
      "[CV] END ......................C=0.1, gamma=auto, kernel=rbf; total time=  20.1s\n",
      "[CV] END ....................C=1, gamma=scale, kernel=linear; total time=  14.2s\n",
      "[CV] END .....................C=1, gamma=auto, kernel=linear; total time=  14.8s\n",
      "[CV] END .......................C=1, gamma=scale, kernel=rbf; total time=  20.3s\n",
      "[CV] END ......................C=1, gamma=scale, kernel=poly; total time=  17.5s\n",
      "[CV] END .....................C=1, gamma=auto, kernel=linear; total time=  14.8s\n",
      "[CV] END .....................C=1, gamma=auto, kernel=linear; total time=  14.9s\n",
      "[CV] END ......................C=1, gamma=scale, kernel=poly; total time=  17.7s\n",
      "[CV] END ......................C=1, gamma=scale, kernel=poly; total time=  17.8s\n",
      "[CV] END .......................C=1, gamma=scale, kernel=rbf; total time=  20.9s\n",
      "[CV] END .......................C=1, gamma=scale, kernel=rbf; total time=  21.1s\n",
      "[CV] END ........................C=1, gamma=auto, kernel=rbf; total time=  20.9s\n",
      "[CV] END ...................C=10, gamma=scale, kernel=linear; total time=  14.8s\n",
      "[CV] END ...................C=10, gamma=scale, kernel=linear; total time=  14.8s\n",
      "[CV] END .......................C=1, gamma=auto, kernel=poly; total time=  17.2s\n",
      "[CV] END .......................C=1, gamma=auto, kernel=poly; total time=  17.4s\n",
      "[CV] END ...................C=10, gamma=scale, kernel=linear; total time=  14.3s\n",
      "[CV] END .......................C=1, gamma=auto, kernel=poly; total time=  17.4s\n",
      "[CV] END ........................C=1, gamma=auto, kernel=rbf; total time=  20.5s\n",
      "[CV] END ........................C=1, gamma=auto, kernel=rbf; total time=  20.6s\n",
      "[CV] END ......................C=10, gamma=scale, kernel=rbf; total time=  20.0s\n",
      "[CV] END ....................C=10, gamma=auto, kernel=linear; total time=  13.7s\n",
      "[CV] END ....................C=10, gamma=auto, kernel=linear; total time=  13.8s\n",
      "[CV] END ....................C=10, gamma=auto, kernel=linear; total time=  13.7s\n",
      "[CV] END .....................C=10, gamma=scale, kernel=poly; total time=  16.6s\n",
      "[CV] END ......................C=10, gamma=scale, kernel=rbf; total time=  19.5s\n",
      "[CV] END .....................C=10, gamma=scale, kernel=poly; total time=  16.4s\n",
      "[CV] END .....................C=10, gamma=scale, kernel=poly; total time=  16.4s\n",
      "[CV] END ......................C=10, gamma=scale, kernel=rbf; total time=  19.0s\n",
      "[CV] END .......................C=10, gamma=auto, kernel=rbf; total time=  17.9s\n",
      "[CV] END .......................C=10, gamma=auto, kernel=rbf; total time=  15.9s\n",
      "[CV] END ......................C=10, gamma=auto, kernel=poly; total time=  11.9s\n",
      "[CV] END ......................C=10, gamma=auto, kernel=poly; total time=  11.7s\n",
      "[CV] END ......................C=10, gamma=auto, kernel=poly; total time=  11.7s\n",
      "[CV] END .......................C=10, gamma=auto, kernel=rbf; total time=  13.0s\n",
      "Best hyperparameters (SVM): {'C': 0.1, 'gamma': 'scale', 'kernel': 'linear'}\n",
      "Best cross-validation score (SVM): 0.7627754386969888\n",
      "Validation accuracy (SVM): 0.8012618296529969\n",
      "Test accuracy (SVM): 0.8013245033112583\n"
     ]
    }
   ],
   "source": [
    "from sklearn.svm import SVC\n",
    "from sklearn.model_selection import GridSearchCV\n",
    "\n",
    "# Define the SVM model\n",
    "svm = SVC()\n",
    "\n",
    "# Set up the hyperparameter grid for GridSearchCV\n",
    "param_grid = {\n",
    "    'C': [0.1, 1, 10],\n",
    "    'kernel': ['linear', 'rbf', 'poly'],\n",
    "    'gamma': ['scale', 'auto']\n",
    "}\n",
    "\n",
    "# Set up GridSearchCV with cross-validation\n",
    "grid_search = GridSearchCV(svm, param_grid, cv=3, scoring='accuracy', n_jobs=-1, verbose=2)\n",
    "grid_search.fit(X_train_scaled, y_train)\n",
    "\n",
    "# Output the best hyperparameters and best score\n",
    "print('Best hyperparameters (SVM):', grid_search.best_params_)\n",
    "print('Best cross-validation score (SVM):', grid_search.best_score_)\n",
    "\n",
    "# Evaluate the best SVM model on the validation and test sets\n",
    "best_svm = grid_search.best_estimator_\n",
    "val_score_svm = best_svm.score(X_val_scaled, y_val)\n",
    "test_score_svm = best_svm.score(X_test_scaled, y_test)\n",
    "print('Validation accuracy (SVM):', val_score_svm)\n",
    "print('Test accuracy (SVM):', test_score_svm)\n"
   ]
  },
  {
   "cell_type": "code",
   "execution_count": null,
   "id": "8853ddb7",
   "metadata": {},
   "outputs": [],
   "source": []
  }
 ],
 "metadata": {
  "kernelspec": {
   "display_name": "Python 3 (ipykernel)",
   "language": "python",
   "name": "python3"
  },
  "language_info": {
   "codemirror_mode": {
    "name": "ipython",
    "version": 3
   },
   "file_extension": ".py",
   "mimetype": "text/x-python",
   "name": "python",
   "nbconvert_exporter": "python",
   "pygments_lexer": "ipython3",
   "version": "3.10.13"
  }
 },
 "nbformat": 4,
 "nbformat_minor": 5
}
